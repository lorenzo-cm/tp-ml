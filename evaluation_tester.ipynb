{
 "cells": [
  {
   "cell_type": "code",
   "execution_count": 16,
   "metadata": {},
   "outputs": [],
   "source": [
    "import chess\n",
    "import numpy as np\n",
    "from tqdm import tqdm\n",
    "from engine.evaluate import evaluate_board\n",
    "from engine.nn_eval import initialize_model\n",
    "from engine.nn.utils.feature_extract import initialize_stockfish, get_position_score\n",
    "from engine.nn.utils.random_board import generate_random_board"
   ]
  },
  {
   "cell_type": "code",
   "execution_count": 2,
   "metadata": {},
   "outputs": [],
   "source": [
    "model = initialize_model('engine/nn/models/model_transformer.pth')\n",
    "stockfish = initialize_stockfish('stockfish/stockfish-ubuntu-x86-64-avx2')"
   ]
  },
  {
   "cell_type": "code",
   "execution_count": 19,
   "metadata": {},
   "outputs": [
    {
     "data": {
      "text/plain": [
       "10"
      ]
     },
     "execution_count": 19,
     "metadata": {},
     "output_type": "execute_result"
    }
   ],
   "source": [
    "np.clip(1231, 0, 10)"
   ]
  },
  {
   "cell_type": "code",
   "execution_count": 20,
   "metadata": {},
   "outputs": [],
   "source": [
    "def get_score(iterations: int, same_signal_buf=0.75, clip_min=-15, clip_max=15):\n",
    "    abs_diff = []\n",
    "    \n",
    "    def have_same_sign(num1, num2, limit=0.2):\n",
    "        if np.abs(num1) <= limit and np.abs(num2) <= limit:\n",
    "            return True\n",
    "        \n",
    "        return (num1 * num2) > 0\n",
    "    \n",
    "    for _ in tqdm(range(iterations)):\n",
    "        board = generate_random_board()\n",
    "        my_eval = np.clip(evaluate_board(board, model), clip_min, clip_max)\n",
    "        stockfish_eval = np.clip(get_position_score(stockfish, board), clip_min, clip_max)\n",
    "        \n",
    "        buf = have_same_sign(my_eval, stockfish_eval) * same_signal_buf\n",
    "        \n",
    "        dif = np.abs(stockfish_eval - my_eval) * buf\n",
    "        \n",
    "        abs_diff.append(dif)\n",
    "        \n",
    "    return np.array(abs_diff)"
   ]
  },
  {
   "cell_type": "code",
   "execution_count": 21,
   "metadata": {},
   "outputs": [
    {
     "name": "stderr",
     "output_type": "stream",
     "text": [
      "100%|██████████| 250/250 [01:59<00:00,  2.09it/s]\n"
     ]
    }
   ],
   "source": [
    "abs_diff = get_score(250)"
   ]
  },
  {
   "cell_type": "code",
   "execution_count": 22,
   "metadata": {},
   "outputs": [
    {
     "data": {
      "text/plain": [
       "2.1533320169075507"
      ]
     },
     "execution_count": 22,
     "metadata": {},
     "output_type": "execute_result"
    }
   ],
   "source": [
    "abs_diff.mean()"
   ]
  }
 ],
 "metadata": {
  "kernelspec": {
   "display_name": "ecg",
   "language": "python",
   "name": "python3"
  },
  "language_info": {
   "codemirror_mode": {
    "name": "ipython",
    "version": 3
   },
   "file_extension": ".py",
   "mimetype": "text/x-python",
   "name": "python",
   "nbconvert_exporter": "python",
   "pygments_lexer": "ipython3",
   "version": "3.7.12"
  }
 },
 "nbformat": 4,
 "nbformat_minor": 2
}
